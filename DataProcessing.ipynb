{
 "cells": [
  {
   "cell_type": "markdown",
   "id": "e34e2384-c7ce-47fe-9374-242659aef4fe",
   "metadata": {},
   "source": [
    "**Import Dependancies**"
   ]
  },
  {
   "cell_type": "code",
   "execution_count": 1,
   "id": "9a50f8c5-cb9f-4c0f-a30e-78a2dd633897",
   "metadata": {},
   "outputs": [
    {
     "name": "stdout",
     "output_type": "stream",
     "text": [
      "Requirement already satisfied: numpy in /home/r3d/Dev/DMVProj/lib/python3.12/site-packages (from -r requirements.txt (line 1)) (2.1.1)\n",
      "Requirement already satisfied: scipy in /home/r3d/Dev/DMVProj/lib/python3.12/site-packages (from -r requirements.txt (line 2)) (1.14.1)\n",
      "Requirement already satisfied: matplotlib in /home/r3d/Dev/DMVProj/lib/python3.12/site-packages (from -r requirements.txt (line 3)) (3.9.2)\n",
      "Collecting GMENoiseReduce (from -r requirements.txt (line 4))\n",
      "  Downloading GMENoiseReduce-0.22-py3-none-any.whl.metadata (558 bytes)\n",
      "Requirement already satisfied: contourpy>=1.0.1 in /home/r3d/Dev/DMVProj/lib/python3.12/site-packages (from matplotlib->-r requirements.txt (line 3)) (1.3.0)\n",
      "Requirement already satisfied: cycler>=0.10 in /home/r3d/Dev/DMVProj/lib/python3.12/site-packages (from matplotlib->-r requirements.txt (line 3)) (0.12.1)\n",
      "Requirement already satisfied: fonttools>=4.22.0 in /home/r3d/Dev/DMVProj/lib/python3.12/site-packages (from matplotlib->-r requirements.txt (line 3)) (4.54.1)\n",
      "Requirement already satisfied: kiwisolver>=1.3.1 in /home/r3d/Dev/DMVProj/lib/python3.12/site-packages (from matplotlib->-r requirements.txt (line 3)) (1.4.7)\n",
      "Requirement already satisfied: packaging>=20.0 in /home/r3d/Dev/DMVProj/lib/python3.12/site-packages (from matplotlib->-r requirements.txt (line 3)) (24.1)\n",
      "Requirement already satisfied: pillow>=8 in /home/r3d/Dev/DMVProj/lib/python3.12/site-packages (from matplotlib->-r requirements.txt (line 3)) (10.4.0)\n",
      "Requirement already satisfied: pyparsing>=2.3.1 in /home/r3d/Dev/DMVProj/lib/python3.12/site-packages (from matplotlib->-r requirements.txt (line 3)) (3.1.4)\n",
      "Requirement already satisfied: python-dateutil>=2.7 in /home/r3d/Dev/DMVProj/lib/python3.12/site-packages (from matplotlib->-r requirements.txt (line 3)) (2.9.0.post0)\n",
      "Requirement already satisfied: six>=1.5 in /home/r3d/Dev/DMVProj/lib/python3.12/site-packages (from python-dateutil>=2.7->matplotlib->-r requirements.txt (line 3)) (1.16.0)\n",
      "Downloading GMENoiseReduce-0.22-py3-none-any.whl (4.2 kB)\n",
      "Installing collected packages: GMENoiseReduce\n",
      "Successfully installed GMENoiseReduce-0.22\n",
      "Note: you may need to restart the kernel to use updated packages.\n"
     ]
    }
   ],
   "source": [
    "pip install -r \"requirements.txt\""
   ]
  },
  {
   "cell_type": "code",
   "execution_count": null,
   "id": "392b7c55-c120-4014-ba70-0af1afa81144",
   "metadata": {},
   "outputs": [],
   "source": []
  }
 ],
 "metadata": {
  "kernelspec": {
   "display_name": "Python 3 (ipykernel)",
   "language": "python",
   "name": "python3"
  },
  "language_info": {
   "codemirror_mode": {
    "name": "ipython",
    "version": 3
   },
   "file_extension": ".py",
   "mimetype": "text/x-python",
   "name": "python",
   "nbconvert_exporter": "python",
   "pygments_lexer": "ipython3",
   "version": "3.12.3"
  }
 },
 "nbformat": 4,
 "nbformat_minor": 5
}
